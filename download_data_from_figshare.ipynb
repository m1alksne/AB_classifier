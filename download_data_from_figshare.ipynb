{
 "cells": [
  {
   "cell_type": "code",
   "execution_count": 2,
   "id": "5aabbed2-a1b2-4deb-a225-6a003b64c7d3",
   "metadata": {},
   "outputs": [
    {
     "name": "stdout",
     "output_type": "stream",
     "text": [
      "Name: CINMS18B_d06_120622_055731.d100.x.wav, Download URL: https://ndownloader.figshare.com/files/45138742\n",
      "Name: DCPP01A_d01_121106_083945.d100.x.wav, Download URL: https://ndownloader.figshare.com/files/45158233\n",
      "Name: DCPP01A_d01_121109_191242.d100.x.wav, Download URL: https://ndownloader.figshare.com/files/45163459\n",
      "Name: DCPP01A_d01_121112_122652.d100.x.wav, Download URL: https://ndownloader.figshare.com/files/45164140\n",
      "Name: DCPP01A_d01_121115_054102.d100.x.wav, Download URL: https://ndownloader.figshare.com/files/45166285\n",
      "Name: CINMS18B_d06_120626_214731.d100.x.wav, Download URL: https://ndownloader.figshare.com/files/45168172\n"
     ]
    }
   ],
   "source": [
    "import requests\n",
    "\n",
    "# Figshare article URL\n",
    "article_url = \"https://api.figshare.com/v2/articles/25433875\"\n",
    "\n",
    "# Send a GET request to the Figshare API to get article details\n",
    "response = requests.get(article_url)\n",
    "article_details = response.json()\n",
    "\n",
    "# Extract and print file information\n",
    "files_info = article_details.get('files', [])\n",
    "\n",
    "for file in files_info:\n",
    "    file_url = file['download_url']\n",
    "    file_name = file['name']\n",
    "    print(f\"Downloading: {file_name}, URL: {file_url}\")\n",
    "\n",
    "    # Send a GET request to the file URL\n",
    "    response = requests.get(file_url)\n",
    "    \n",
    "    # Check if the request was successful (status code 200)\n",
    "    if response.status_code == 200:\n",
    "        # Open a file in binary write mode\n",
    "        with open(file_name, 'wb') as file:\n",
    "            file.write(response.content)\n",
    "        print(\"File downloaded successfully!\")\n",
    "    else:\n",
    "        print(f\"Failed to download file. Status code: {response.status_code}\")"
   ]
  },
  {
   "cell_type": "code",
   "execution_count": null,
   "id": "fd2e6e6a-d73a-4b8d-9400-89d975f03b13",
   "metadata": {},
   "outputs": [],
   "source": []
  }
 ],
 "metadata": {
  "kernelspec": {
   "display_name": "Python 3 (ipykernel)",
   "language": "python",
   "name": "python3"
  },
  "language_info": {
   "codemirror_mode": {
    "name": "ipython",
    "version": 3
   },
   "file_extension": ".py",
   "mimetype": "text/x-python",
   "name": "python",
   "nbconvert_exporter": "python",
   "pygments_lexer": "ipython3",
   "version": "3.11.8"
  }
 },
 "nbformat": 4,
 "nbformat_minor": 5
}
